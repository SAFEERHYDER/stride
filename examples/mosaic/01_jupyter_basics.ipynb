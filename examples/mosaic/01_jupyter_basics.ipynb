{
 "cells": [
  {
   "cell_type": "code",
   "execution_count": 1,
   "id": "pacific-sweden",
   "metadata": {},
   "outputs": [],
   "source": [
    "import time\n",
    "import numpy as np"
   ]
  },
  {
   "cell_type": "code",
   "execution_count": 2,
   "id": "exclusive-logic",
   "metadata": {},
   "outputs": [],
   "source": [
    "import mosaic\n",
    "from mosaic import tessera"
   ]
  },
  {
   "cell_type": "markdown",
   "id": "interested-confidentiality",
   "metadata": {},
   "source": [
    "Mosaic is an actor-based parallelisation library. Actors, the basic unit of parallelism in mosaic, are represented by classes called `tessera`.\n",
    "\n",
    "A `tessera` can be created by decorating any Python class with the `@tessera` decorator:"
   ]
  },
  {
   "cell_type": "code",
   "execution_count": 3,
   "id": "banner-philosophy",
   "metadata": {},
   "outputs": [],
   "source": [
    "@tessera\n",
    "class Solver1:\n",
    "    def __init__(self, data):\n",
    "        self.data = data\n",
    "\n",
    "    def solve(self, data):\n",
    "        print('Solve 1')\n",
    "        self.data = self.data + data\n",
    "\n",
    "        time.sleep(10)\n",
    "        print('Done 1')\n",
    "\n",
    "        return self.data\n",
    "\n",
    "    def solve_more(self):\n",
    "        print('Solve More 1')\n",
    "        time.sleep(5)\n",
    "        print('Done More 1')\n",
    "\n",
    "\n",
    "@tessera\n",
    "class Solver2:\n",
    "    def __init__(self):\n",
    "        self.data = 0\n",
    "\n",
    "    def solve(self, data):\n",
    "        print('Solve 2')\n",
    "        self.data = data*2\n",
    "\n",
    "        time.sleep(10)\n",
    "        print('Done 2')\n",
    "\n",
    "        return self.data\n",
    "\n",
    "    def solve_more(self):\n",
    "        print('Solve More 2')\n",
    "        time.sleep(5)\n",
    "        print('Done More 2')"
   ]
  },
  {
   "cell_type": "markdown",
   "id": "dramatic-florence",
   "metadata": {},
   "source": [
    "Before we start working with the `tessera` classes that we have just created, we need to start the mosaic runtime that will manage them. There are several ways to start the runtime but, because we are working with a Jupyter notebook, we want to start it in interactive mode:"
   ]
  },
  {
   "cell_type": "code",
   "execution_count": 4,
   "id": "brown-teacher",
   "metadata": {},
   "outputs": [
    {
     "name": "stdout",
     "output_type": "stream",
     "text": [
      "HEAD            Listening at <CommsManager object at 140231089546320, uid=head, address=155.198.98.57, port=3000, state=listening>\n",
      "MONITOR         Listening at <CommsManager object at 140229011265808, uid=monitor, address=155.198.98.57, port=3001, state=listening>\n",
      "NODE:0          Listening at <CommsManager object at 140230615021648, uid=node:0, address=155.198.98.57, port=3003, state=listening>\n",
      "WORKER:0:0      Listening at <CommsManager object at 140230615043472, uid=worker:0:0, address=155.198.98.57, port=3006, state=listening>\n",
      "WORKER:0:1      Listening at <CommsManager object at 140230615032208, uid=worker:0:1, address=155.198.98.57, port=3008, state=listening>\n"
     ]
    }
   ],
   "source": [
    "await mosaic.interactive('on', num_workers=2)"
   ]
  },
  {
   "cell_type": "markdown",
   "id": "remarkable-implement",
   "metadata": {},
   "source": [
    "Now, we can start using mosaic's runtime to execute our parallel workload. To do that, let's instantiate some of our `tessera` by calling the `remote` method that is now available for each of our classes:"
   ]
  },
  {
   "cell_type": "code",
   "execution_count": 5,
   "id": "indirect-swimming",
   "metadata": {},
   "outputs": [
    {
     "data": {
      "text/plain": [
       "<_TesseraProxy object at 140230614888976, uid=tess-solver1-70c44acf610242cb95993ae2d7eb8bc5, runtime=None, state=pending>"
      ]
     },
     "execution_count": 5,
     "metadata": {},
     "output_type": "execute_result"
    }
   ],
   "source": [
    "# These objects will be created remotely\n",
    "array = np.zeros((1024, 1024, 1), dtype=np.float32)\n",
    "\n",
    "solver_1 = Solver1.remote(array)\n",
    "solver_2 = Solver2.remote()\n",
    "solver_1"
   ]
  },
  {
   "cell_type": "markdown",
   "id": "public-skiing",
   "metadata": {},
   "source": [
    "As you can see, the result of calling `remote` is not an instance of the class, but a proxy object.\n",
    "\n",
    "The mosaic runtime will instantiate `tessera` classes within one of the available workers, and a proxy object will be given to us that points to the remote object.\n",
    "\n",
    "This proxy allows us to call methods of the remote object as if they were local objects:"
   ]
  },
  {
   "cell_type": "code",
   "execution_count": 6,
   "id": "parental-aside",
   "metadata": {},
   "outputs": [
    {
     "data": {
      "text/plain": [
       "<TaskProxy object at 140230615005008, uid=task-solver1-solve-844e8c30854e4f13a10d5c64a7627f6b, runtime=worker:0:0, state=pending>"
      ]
     },
     "execution_count": 6,
     "metadata": {},
     "output_type": "execute_result"
    },
    {
     "name": "stdout",
     "output_type": "stream",
     "text": [
      "WORKER:0:0      Solve 1\n",
      "\n",
      "WORKER:0:1      Solve 2\n",
      "\n"
     ]
    }
   ],
   "source": [
    "# These will run in parallel\n",
    "# The calls will return immediately by creating a remote\n",
    "# task\n",
    "task_1 = solver_1.solve(array)\n",
    "task_2 = solver_2.solve(array)\n",
    "task_1"
   ]
  },
  {
   "cell_type": "markdown",
   "id": "announced-teach",
   "metadata": {},
   "source": [
    "Unlike a local method call, calling a remote method will return immediately and will not wait until the work is done. Instead, it will generate a task that the mosaic runtime will pass to the worker who owns the `tessera`, who will queue it for execution.\n",
    "\n",
    "On our side of the code, the call to the remote method will generate a task proxy that points to its remote counterpart.\n",
    "\n",
    "Method calls to different `tessera` are executed in parallel, whereas method calls to a specific `tessera` instance are guaranteed to be executed in the order in which they were called.\n",
    "\n",
    "We can wait for the remote calls to finish by awaiting the proxies:"
   ]
  },
  {
   "cell_type": "code",
   "execution_count": 7,
   "id": "broadband-council",
   "metadata": {},
   "outputs": [
    {
     "name": "stdout",
     "output_type": "stream",
     "text": [
      "WORKER:0:0      Done 1\n",
      "\n",
      "WORKER:0:1      Done 2\n",
      "\n"
     ]
    },
    {
     "data": {
      "text/plain": [
       "<TaskProxy object at 140230615005456, uid=task-solver2-solve-cba216a41c574f2fa725dc94c1455e64, runtime=worker:0:1, state=done>"
      ]
     },
     "execution_count": 7,
     "metadata": {},
     "output_type": "execute_result"
    }
   ],
   "source": [
    "# Wait until the remote tasks are finished\n",
    "await task_1\n",
    "await task_2"
   ]
  },
  {
   "cell_type": "markdown",
   "id": "incredible-detector",
   "metadata": {},
   "source": [
    "The return value of the method calls, if any, will not be transferred back to the user code unless we explicitly request it:"
   ]
  },
  {
   "cell_type": "code",
   "execution_count": 8,
   "id": "marine-harvey",
   "metadata": {},
   "outputs": [
    {
     "name": "stdout",
     "output_type": "stream",
     "text": [
      "(1024, 1024, 1)\n",
      "(1024, 1024, 1)\n"
     ]
    }
   ],
   "source": [
    "# The results of the tasks stay in the remote worker\n",
    "# until we request it back\n",
    "result_1 = await task_1.result()\n",
    "result_2 = await task_2.result()\n",
    "\n",
    "print(result_1.shape)\n",
    "print(result_2.shape)"
   ]
  },
  {
   "cell_type": "markdown",
   "id": "steady-advertiser",
   "metadata": {},
   "source": [
    "It is possible to use the return value of a remote method call as an input to another `tessera` by passing the task proxy as an input.\n",
    "\n",
    "The mosaic runtime will take care of figuring out how to fetch the data that is needed to execute the method."
   ]
  },
  {
   "cell_type": "code",
   "execution_count": 9,
   "id": "earned-bradley",
   "metadata": {},
   "outputs": [
    {
     "data": {
      "text/plain": [
       "<TaskProxy object at 140230615027920, uid=task-solver1-solve-0d218afb301943c59f6744f362b94fb4, runtime=worker:0:0, state=pending>"
      ]
     },
     "execution_count": 9,
     "metadata": {},
     "output_type": "execute_result"
    },
    {
     "name": "stdout",
     "output_type": "stream",
     "text": [
      "WORKER:0:0      Solve 1\n",
      "\n"
     ]
    }
   ],
   "source": [
    "# These will wait for each other because\n",
    "# their results depend on each other\n",
    "task_1 = solver_1.solve(array)\n",
    "task_2 = solver_2.solve(task_1)\n",
    "task_1"
   ]
  },
  {
   "cell_type": "markdown",
   "id": "incorrect-detective",
   "metadata": {},
   "source": [
    "In this case, we only need to wait for the second task to finish because an implicit dependency exists between the two:"
   ]
  },
  {
   "cell_type": "code",
   "execution_count": 10,
   "id": "plain-rating",
   "metadata": {},
   "outputs": [
    {
     "name": "stdout",
     "output_type": "stream",
     "text": [
      "WORKER:0:0      Done 1\n",
      "\n",
      "WORKER:0:1      Solve 2\n",
      "\n",
      "WORKER:0:1      Done 2\n",
      "\n"
     ]
    },
    {
     "data": {
      "text/plain": [
       "<TaskProxy object at 140230615028432, uid=task-solver2-solve-2eff683725cf45ce913c31ac3984d489, runtime=worker:0:1, state=done>"
      ]
     },
     "execution_count": 10,
     "metadata": {},
     "output_type": "execute_result"
    }
   ],
   "source": [
    "# Wait until the remote tasks are finished\n",
    "# Now we only need to wait for the second task\n",
    "await task_2"
   ]
  },
  {
   "cell_type": "markdown",
   "id": "involved-israeli",
   "metadata": {},
   "source": [
    "We can also create explicit dependencies between two tasks to ensure that they are executed in order:"
   ]
  },
  {
   "cell_type": "code",
   "execution_count": 11,
   "id": "unknown-resident",
   "metadata": {},
   "outputs": [
    {
     "data": {
      "text/plain": [
       "<TaskProxy object at 140230615061392, uid=task-solver1-solve_more-fcc96659d8824299805df79de2003f3e, runtime=worker:0:0, state=pending>"
      ]
     },
     "execution_count": 11,
     "metadata": {},
     "output_type": "execute_result"
    },
    {
     "name": "stdout",
     "output_type": "stream",
     "text": [
      "WORKER:0:0      Solve More 1\n",
      "\n"
     ]
    }
   ],
   "source": [
    "# These will also wait for each other\n",
    "task_1 = solver_1.solve_more()\n",
    "task_2 = solver_2.solve_more(task_1.outputs.done)\n",
    "task_1"
   ]
  },
  {
   "cell_type": "markdown",
   "id": "useful-coordinate",
   "metadata": {},
   "source": [
    "Again, we only need to wait for the second task to finish."
   ]
  },
  {
   "cell_type": "code",
   "execution_count": 12,
   "id": "similar-chapel",
   "metadata": {},
   "outputs": [
    {
     "name": "stdout",
     "output_type": "stream",
     "text": [
      "WORKER:0:0      Done More 1\n",
      "\n",
      "WORKER:0:1      Solve More 2\n",
      "\n",
      "WORKER:0:1      Done More 2\n",
      "\n"
     ]
    },
    {
     "data": {
      "text/plain": [
       "<TaskProxy object at 140230615062032, uid=task-solver2-solve_more-f8705b68f4c74f8c8244cc76c56cfe58, runtime=worker:0:1, state=done>"
      ]
     },
     "execution_count": 12,
     "metadata": {},
     "output_type": "execute_result"
    }
   ],
   "source": [
    "# Wait until the remote tasks are finished\n",
    "# Now we only need to wait for the second task\n",
    "await task_2"
   ]
  },
  {
   "cell_type": "markdown",
   "id": "corporate-constitution",
   "metadata": {},
   "source": [
    "Before leaving, we should ensure that we tear down the mosaic runtime:"
   ]
  },
  {
   "cell_type": "code",
   "execution_count": 13,
   "id": "million-willow",
   "metadata": {},
   "outputs": [],
   "source": [
    "await mosaic.interactive('off')"
   ]
  }
 ],
 "metadata": {
  "kernelspec": {
   "display_name": "Python 3",
   "language": "python",
   "name": "python3"
  },
  "language_info": {
   "codemirror_mode": {
    "name": "ipython",
    "version": 3
   },
   "file_extension": ".py",
   "mimetype": "text/x-python",
   "name": "python",
   "nbconvert_exporter": "python",
   "pygments_lexer": "ipython3",
   "version": "3.7.8"
  }
 },
 "nbformat": 4,
 "nbformat_minor": 5
}
