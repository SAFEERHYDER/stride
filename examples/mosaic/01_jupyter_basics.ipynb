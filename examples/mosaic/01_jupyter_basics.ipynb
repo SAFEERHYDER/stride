{
 "cells": [
  {
   "cell_type": "code",
   "execution_count": 1,
   "id": "pacific-sweden",
   "metadata": {},
   "outputs": [],
   "source": [
    "import time\n",
    "import numpy as np"
   ]
  },
  {
   "cell_type": "code",
   "execution_count": 2,
   "id": "exclusive-logic",
   "metadata": {},
   "outputs": [],
   "source": [
    "import mosaic\n",
    "from mosaic import tessera"
   ]
  },
  {
   "cell_type": "markdown",
   "id": "interested-confidentiality",
   "metadata": {},
   "source": [
    "Mosaic is an actor-based parallelisation library. Actors, the basic unit of parallelism in mosaic, are represented by classes called `tessera`.\n",
    "\n",
    "A `tessera` can be created by decorating any Python class with the `@tessera` decorator:"
   ]
  },
  {
   "cell_type": "code",
   "execution_count": 3,
   "id": "banner-philosophy",
   "metadata": {},
   "outputs": [],
   "source": [
    "@tessera\n",
    "class Solver1:\n",
    "    def __init__(self, data):\n",
    "        self.data = data\n",
    "\n",
    "    def solve(self, data):\n",
    "        print('Solve 1')\n",
    "        self.data = self.data + data\n",
    "\n",
    "        time.sleep(10)\n",
    "        print('Done 1')\n",
    "\n",
    "        return self.data\n",
    "\n",
    "    def solve_more(self):\n",
    "        print('Solve More 1')\n",
    "        time.sleep(5)\n",
    "        print('Done More 1')\n",
    "\n",
    "\n",
    "@tessera\n",
    "class Solver2:\n",
    "    def __init__(self):\n",
    "        self.data = 0\n",
    "\n",
    "    def solve(self, data):\n",
    "        print('Solve 2')\n",
    "        self.data = data*2\n",
    "\n",
    "        time.sleep(10)\n",
    "        print('Done 2')\n",
    "\n",
    "        return self.data\n",
    "\n",
    "    def solve_more(self):\n",
    "        print('Solve More 2')\n",
    "        time.sleep(5)\n",
    "        print('Done More 2')"
   ]
  },
  {
   "cell_type": "markdown",
   "id": "dramatic-florence",
   "metadata": {},
   "source": [
    "Before we start working with the `tessera` classes that we have just created, we need to start the mosaic runtime that will manage them. There are several ways to start the runtime but, because we are working with a Jupyter notebook, we want to start it in interactive mode:"
   ]
  },
  {
   "cell_type": "code",
   "execution_count": 4,
   "id": "brown-teacher",
   "metadata": {},
   "outputs": [
    {
     "name": "stdout",
     "output_type": "stream",
     "text": [
      "2021-03-15 11:18:02,213 - INFO       HEAD            Listening at <CommsManager object at 139623730690704, uid=head, address=155.198.98.57, port=3000, state=listening>\n",
      "2021-03-15 11:18:02,293 - INFO       MONITOR         Listening at <CommsManager object at 139623733990672, uid=monitor, address=155.198.98.57, port=3005, state=listening>\n",
      "2021-03-15 11:18:02,317 - INFO       NODE:0          Listening at <CommsManager object at 139623713041232, uid=node:0, address=155.198.98.57, port=3006, state=listening>\n",
      "2021-03-15 11:18:02,338 - INFO       WORKER:0:0      Listening at <CommsManager object at 139623713204624, uid=worker:0:0, address=155.198.98.57, port=3007, state=listening>\n",
      "2021-03-15 11:18:02,503 - INFO       WORKER:0:1      Listening at <CommsManager object at 139623713061328, uid=worker:0:1, address=155.198.98.57, port=3008, state=listening>\n"
     ]
    }
   ],
   "source": [
    "await mosaic.interactive('on', num_workers=2)"
   ]
  },
  {
   "cell_type": "markdown",
   "id": "remarkable-implement",
   "metadata": {},
   "source": [
    "Now, we can start using mosaic's runtime to execute our parallel workload. To do that, let's instantiate some of our `tessera` by calling the `remote` method that is now available for each of our classes:"
   ]
  },
  {
   "cell_type": "code",
   "execution_count": 5,
   "id": "indirect-swimming",
   "metadata": {},
   "outputs": [
    {
     "data": {
      "text/plain": [
       "<TesseraProxy object at 139623713084560, uid=tess-solver1-2589bf5e12b9458a93989ebf4c30fbee, runtime=worker:0:0, state=listening>"
      ]
     },
     "execution_count": 5,
     "metadata": {},
     "output_type": "execute_result"
    }
   ],
   "source": [
    "# These objects will be created remotely\n",
    "array = np.zeros((1024, 1024, 1), dtype=np.float32)\n",
    "\n",
    "solver_1 = await Solver1.remote(array)\n",
    "solver_2 = await Solver2.remote()\n",
    "solver_1"
   ]
  },
  {
   "cell_type": "markdown",
   "id": "public-skiing",
   "metadata": {},
   "source": [
    "As you can see, the result of calling `remote` is not an instance of the class, but a proxy object.\n",
    "\n",
    "The mosaic runtime will instantiate `tessera` classes within one of the available workers, and a proxy object will be given to us that points to the remote object.\n",
    "\n",
    "This proxy allows us to call methods of the remote object as if they were local objects:"
   ]
  },
  {
   "cell_type": "code",
   "execution_count": 6,
   "id": "parental-aside",
   "metadata": {},
   "outputs": [
    {
     "name": "stdout",
     "output_type": "stream",
     "text": [
      "2021-03-15 11:18:11,209 - INFO       WORKER:0:0      Solve 1\n",
      "\n"
     ]
    },
    {
     "data": {
      "text/plain": [
       "<TaskProxy object at 139623733990672, uid=task-solve-c9db3b9e7923455d88340caff80516e4, runtime=worker:0:0, state=queued>"
      ]
     },
     "execution_count": 6,
     "metadata": {},
     "output_type": "execute_result"
    },
    {
     "name": "stdout",
     "output_type": "stream",
     "text": [
      "2021-03-15 11:18:11,217 - INFO       WORKER:0:1      Solve 2\n",
      "\n"
     ]
    }
   ],
   "source": [
    "# These will run in parallel\n",
    "# The calls will return immediately by creating a remote\n",
    "# task\n",
    "task_1 = await solver_1.solve(array)\n",
    "task_2 = await solver_2.solve(array)\n",
    "task_1"
   ]
  },
  {
   "cell_type": "markdown",
   "id": "announced-teach",
   "metadata": {},
   "source": [
    "Unlike a local method call, calling a remote method will return immediately and will not wait until the work is done. Instead, it will generate a task that the mosaic runtime will pass to the worker who owns the `tessera`, who will queue it for execution.\n",
    "\n",
    "On our side of the code, the call to the remote method will generate a task proxy that points to its remote counterpart.\n",
    "\n",
    "Method calls to different `tessera` are executed in parallel, whereas method calls to a specific `tessera` instance are guaranteed to be executed in the order in which they were called.\n",
    "\n",
    "We can wait for the remote calls to finish by awaiting the proxies:"
   ]
  },
  {
   "cell_type": "code",
   "execution_count": 7,
   "id": "broadband-council",
   "metadata": {},
   "outputs": [
    {
     "name": "stdout",
     "output_type": "stream",
     "text": [
      "2021-03-15 11:18:21,223 - INFO       WORKER:0:0      Done 1\n",
      "\n",
      "2021-03-15 11:18:21,226 - INFO       WORKER:0:1      Done 2\n",
      "\n"
     ]
    },
    {
     "data": {
      "text/plain": [
       "True"
      ]
     },
     "execution_count": 7,
     "metadata": {},
     "output_type": "execute_result"
    }
   ],
   "source": [
    "# Wait until the remote tasks are finished\n",
    "await task_1\n",
    "await task_2"
   ]
  },
  {
   "cell_type": "markdown",
   "id": "incredible-detector",
   "metadata": {},
   "source": [
    "The return value of the method calls, if any, will not be transferred back to the user code unless we explicitly request it:"
   ]
  },
  {
   "cell_type": "code",
   "execution_count": 8,
   "id": "marine-harvey",
   "metadata": {},
   "outputs": [
    {
     "name": "stdout",
     "output_type": "stream",
     "text": [
      "(1024, 1024, 1)\n",
      "(1024, 1024, 1)\n"
     ]
    }
   ],
   "source": [
    "# The results of the tasks stay in the remote worker\n",
    "# until we request it back\n",
    "result_1 = await task_1.result()\n",
    "result_2 = await task_2.result()\n",
    "\n",
    "print(result_1.shape)\n",
    "print(result_2.shape)"
   ]
  },
  {
   "cell_type": "markdown",
   "id": "steady-advertiser",
   "metadata": {},
   "source": [
    "It is possible to use the return value of a remote method call as an input to another `tessera` by passing the task proxy as an input.\n",
    "\n",
    "The mosaic runtime will take care of figuring out how to fetch the data that is needed to execute the method."
   ]
  },
  {
   "cell_type": "code",
   "execution_count": 9,
   "id": "earned-bradley",
   "metadata": {},
   "outputs": [
    {
     "name": "stdout",
     "output_type": "stream",
     "text": [
      "2021-03-15 11:19:02,322 - INFO       WORKER:0:0      Solve 1\n",
      "\n"
     ]
    }
   ],
   "source": [
    "# These will wait for each other because\n",
    "# their results depend on each other\n",
    "task_1 = await solver_1.solve(array)\n",
    "task_2 = await solver_2.solve(task_1)\n",
    "task_1"
   ]
  },
  {
   "cell_type": "markdown",
   "id": "incorrect-detective",
   "metadata": {},
   "source": [
    "In this case, we only need to wait for the second task to finish because an implicit dependency exists between the two:"
   ]
  },
  {
   "cell_type": "code",
   "execution_count": 10,
   "id": "plain-rating",
   "metadata": {},
   "outputs": [
    {
     "name": "stdout",
     "output_type": "stream",
     "text": [
      "2021-03-15 11:19:12,331 - INFO       WORKER:0:0      Done 1\n",
      "\n",
      "2021-03-15 11:19:22,482 - INFO       WORKER:0:1      Solve 2\n",
      "\n",
      "2021-03-15 11:19:22,482 - INFO       WORKER:0:1      Done 2\n",
      "\n"
     ]
    },
    {
     "data": {
      "text/plain": [
       "True"
      ]
     },
     "execution_count": 10,
     "metadata": {},
     "output_type": "execute_result"
    }
   ],
   "source": [
    "# Wait until the remote tasks are finished\n",
    "# Now we only need to wait for the second task\n",
    "await task_2"
   ]
  },
  {
   "cell_type": "markdown",
   "id": "involved-israeli",
   "metadata": {},
   "source": [
    "We can also create explicit dependencies between two tasks to ensure that they are executed in order:"
   ]
  },
  {
   "cell_type": "code",
   "execution_count": 11,
   "id": "unknown-resident",
   "metadata": {},
   "outputs": [
    {
     "name": "stdout",
     "output_type": "stream",
     "text": [
      "2021-03-15 11:19:24,858 - INFO       WORKER:0:0      Solve More 1\n",
      "\n",
      "2021-03-15 11:19:29,859 - INFO       WORKER:0:0      Done More 1\n",
      "\n"
     ]
    }
   ],
   "source": [
    "# These will also wait for each other\n",
    "task_1 = await solver_1.solve_more()\n",
    "task_2 = await solver_2.solve_more(task_1.outputs.done)\n",
    "task_1"
   ]
  },
  {
   "cell_type": "markdown",
   "id": "useful-coordinate",
   "metadata": {},
   "source": [
    "Again, we only need to wait for the second task to finish."
   ]
  },
  {
   "cell_type": "code",
   "execution_count": 12,
   "id": "similar-chapel",
   "metadata": {},
   "outputs": [
    {
     "name": "stdout",
     "output_type": "stream",
     "text": [
      "2021-03-15 11:19:34,979 - INFO       WORKER:0:1      Solve More 2\n",
      "\n",
      "2021-03-15 11:19:34,980 - INFO       WORKER:0:1      Done More 2\n",
      "\n"
     ]
    },
    {
     "data": {
      "text/plain": [
       "True"
      ]
     },
     "execution_count": 12,
     "metadata": {},
     "output_type": "execute_result"
    }
   ],
   "source": [
    "# Wait until the remote tasks are finished\n",
    "# Now we only need to wait for the second task\n",
    "await task_2"
   ]
  },
  {
   "cell_type": "markdown",
   "id": "corporate-constitution",
   "metadata": {},
   "source": [
    "Before leaving, we should ensure that we tear down the mosaic runtime:"
   ]
  },
  {
   "cell_type": "code",
   "execution_count": 13,
   "id": "million-willow",
   "metadata": {},
   "outputs": [],
   "source": [
    "await mosaic.interactive('off')"
   ]
  }
 ],
 "metadata": {
  "kernelspec": {
   "display_name": "Python 3",
   "language": "python",
   "name": "python3"
  },
  "language_info": {
   "codemirror_mode": {
    "name": "ipython",
    "version": 3
   },
   "file_extension": ".py",
   "mimetype": "text/x-python",
   "name": "python",
   "nbconvert_exporter": "python",
   "pygments_lexer": "ipython3",
   "version": "3.7.8"
  }
 },
 "nbformat": 4,
 "nbformat_minor": 5
}
